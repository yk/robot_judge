{
 "cells": [
  {
   "cell_type": "code",
   "execution_count": 7,
   "metadata": {},
   "outputs": [],
   "source": [
    "import itertools as itt\n",
    "from sklearn import metrics\n",
    "import numpy as np\n",
    "# I will work with numpy, as I don't know pandas too well\n",
    "\n",
    "def get_transformation(D1, D2, D1_column_names, D2_column_names):\n",
    "    # get all column names that are shared\n",
    "    shared_column_names = [n for n in D1_column_names if n in D2_column_names]\n",
    "    \n",
    "    # get indices of the shared names\n",
    "    indices_shared_names_D1 = [D1_column_names.index(n) for n in shared_column_names]\n",
    "    indices_shared_names_D2 = [D2_column_names.index(n) for n in shared_column_names]\n",
    "    \n",
    "    # get indices of the unshared names\n",
    "    indices_unshared_names_D1 = [i for i in range(len(D1_column_names)) if i not in indices_shared_names_D1]\n",
    "    indices_unshared_names_D2 = [i for i in range(len(D2_column_names)) if i not in indices_shared_names_D2]\n",
    "    \n",
    "    # final dimension\n",
    "    m3 = len(shared_column_names) + len(indices_unshared_names_D1) + len(indices_unshared_names_D2)\n",
    "    \n",
    "    # T1 will be (shared | unshared_D1 | 0), while T2 will be (shared | 0 | unshared_D2)\n",
    "    T1 = np.zeros((D1.shape[1], m3))\n",
    "    for i, idx in enumerate(itt.chain(indices_shared_names_D1, indices_unshared_names_D1)):\n",
    "        T1[idx, i] = 1\n",
    "    \n",
    "    T2 = np.zeros((D2.shape[1], m3))\n",
    "    for i, idx in enumerate(indices_shared_names_D2):\n",
    "        T2[idx, i] = 1\n",
    "    for i, idx in enumerate(indices_unshared_names_D2):\n",
    "        T2[idx, i+len(indices_shared_names_D2)+len(indices_unshared_names_D1)] = 1\n",
    "    return T1, T2\n",
    "    \n",
    "def cosine_sim(T1, T2, D1, D2):\n",
    "    return metrics.cosine_similarity(np.dot(D1, T1), np.dot(D2, T2))"
   ]
  },
  {
   "cell_type": "code",
   "execution_count": null,
   "metadata": {},
   "outputs": [],
   "source": []
  }
 ],
 "metadata": {
  "kernelspec": {
   "display_name": "Python 3",
   "language": "python",
   "name": "python3"
  },
  "language_info": {
   "codemirror_mode": {
    "name": "ipython",
    "version": 3
   },
   "file_extension": ".py",
   "mimetype": "text/x-python",
   "name": "python",
   "nbconvert_exporter": "python",
   "pygments_lexer": "ipython3",
   "version": "3.7.2"
  }
 },
 "nbformat": 4,
 "nbformat_minor": 2
}
